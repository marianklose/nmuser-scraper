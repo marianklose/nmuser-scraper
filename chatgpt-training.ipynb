{
  "cells": [
    {
      "cell_type": "raw",
      "metadata": {},
      "source": [
        "---\n",
        "title: \"chatgpt training\"\n",
        "date: today\n",
        "author: Marian Klose\n",
        "execute: \n",
        "    echo: true\n",
        "    message: true\n",
        "    warning: true\n",
        "format:\n",
        "    html:\n",
        "        toc: true\n",
        "        code-fold: show\n",
        "        code-tools: true\n",
        "        number-sections: true\n",
        "        embed-resources: true\n",
        "---"
      ],
      "id": "8aa09989"
    },
    {
      "cell_type": "markdown",
      "metadata": {},
      "source": [
        "# Preamble\n",
        "\n",
        "## Library\n"
      ],
      "id": "76114b06"
    },
    {
      "cell_type": "code",
      "metadata": {},
      "source": [
        "# load packages\n",
        "import openai\n",
        "import requests\n",
        "import time\n",
        "import json\n",
        "import random\n",
        "import re\n",
        "import pandas as pd\n",
        "from bs4 import BeautifulSoup\n",
        "from pprint import pprint\n",
        "\n",
        "# import own custom functions\n",
        "from functions import *"
      ],
      "id": "6df8bc0f",
      "execution_count": null,
      "outputs": []
    },
    {
      "cell_type": "markdown",
      "metadata": {},
      "source": [
        "## PAT / API Tokens\n"
      ],
      "id": "66c2cfea"
    },
    {
      "cell_type": "code",
      "metadata": {},
      "source": [
        "# define pats and api tokens safely via gitignored file \n",
        "from my_secrets import gh_api_token\n",
        "from my_secrets import ai_api_token"
      ],
      "id": "5bfa746e",
      "execution_count": null,
      "outputs": []
    },
    {
      "cell_type": "markdown",
      "metadata": {},
      "source": [
        "## Global Options and Parameters\n"
      ],
      "id": "215e8eb4"
    },
    {
      "cell_type": "code",
      "metadata": {},
      "source": [
        "# define if we want to actually create discussions or just test\n",
        "create_dis_bool = False\n",
        "\n",
        "# Define repository and category IDs\n",
        "repository_id = 'R_kgDOKYhvWw'\n",
        "category_id = 'DIC_kwDOKYhvW84CZobi'\n",
        "\n",
        "# Hardcoded dictionary for email classification categories\n",
        "category_dict = {\n",
        "    \"Announcements\": \"DIC_kwDOKYhvW84CZvWP\",\n",
        "    \"Open Positions\": \"DIC_kwDOKYhvW84CZvWQ\",\n",
        "    \"Technicalities\": \"DIC_kwDOKYhvW84CZvWX\",\n",
        "    \"Others\": \"DIC_kwDOKYhvW84CZvWY\"\n",
        "}\n",
        "\n",
        "# define categories for eamil classification\n",
        "categories = list(category_dict.keys())\n",
        "\n",
        "# define chatgpt model\n",
        "model = \"gpt-3.5-turbo\"\n",
        "# model = \"gpt-4\"\n",
        "\n",
        "# sample vector of message IDs\n",
        "n_msg = 20\n",
        "recent_id = 8687\n",
        "my_array = list(range(1, recent_id))\n",
        "msg_ids = random.sample(my_array, n_msg)"
      ],
      "id": "a2e6346b",
      "execution_count": null,
      "outputs": []
    },
    {
      "cell_type": "markdown",
      "metadata": {},
      "source": [
        "# Scraping\n",
        "\n",
        "## Fetching List of Messages\n"
      ],
      "id": "27eb9024"
    },
    {
      "cell_type": "code",
      "metadata": {
        "results": "asis"
      },
      "source": [
        "# Convert numerics to strings and paste 0 in front\n",
        "msg_ids = [str(num).zfill(5) for num in msg_ids]\n",
        "\n",
        "# show\n",
        "msg_ids\n",
        "\n",
        "# Initialize an empty dictionary to hold the msg information\n",
        "msg = {}\n",
        "\n",
        "# Loop through each msg id, extract the details and append\n",
        "for id in msg_ids:\n",
        "\n",
        "    # Fetch the details\n",
        "    single_msg = fetch_details(id)\n",
        "\n",
        "    # Append to msg\n",
        "    msg[id] = single_msg\n",
        "\n",
        "\n",
        "# Extract threads\n",
        "thread_dict = extract_threads(msg)\n",
        "\n",
        "# Fetch any missing messages in the threads\n",
        "fetch_missing_messages(thread_dict, msg)\n",
        "\n",
        "# print the result\n",
        "pprint(thread_dict, indent=4)"
      ],
      "id": "d9e79076",
      "execution_count": null,
      "outputs": []
    },
    {
      "cell_type": "markdown",
      "metadata": {},
      "source": [
        "## Create Training Dataset\n"
      ],
      "id": "518acd54"
    },
    {
      "cell_type": "code",
      "metadata": {},
      "source": [
        "# init data lis t\n",
        "data_list = []\n",
        "\n",
        "# Loop through each element in the dictionary\n",
        "for thread_id, thread_info in thread_dict.items():\n",
        "\n",
        "    # define initial message id\n",
        "    inital_msg_id = thread_info['ids'][0]\n",
        "\n",
        "    # retrieve initial thread starting message\n",
        "    cur_msg = msg[inital_msg_id]\n",
        "\n",
        "    # store data from message\n",
        "    data = {\n",
        "        'id': cur_msg['id'],\n",
        "        'date': cur_msg['date'],\n",
        "        'subject': cur_msg['subject'],\n",
        "        'message': cur_msg['message']\n",
        "    }\n",
        "    \n",
        "    # append data to list\n",
        "    data_list.append(data)\n",
        "\n",
        "# Convert the list of dictionaries into a pandas DataFrame\n",
        "df = pd.DataFrame(data_list)\n",
        "\n",
        "# Save the DataFrame to a CSV file\n",
        "df.to_csv('train_df_raw.csv', index=False)\n",
        "\n",
        "# print the result\n",
        "pprint(df, indent=4)"
      ],
      "id": "4f80d103",
      "execution_count": null,
      "outputs": []
    }
  ],
  "metadata": {
    "kernelspec": {
      "name": "python3",
      "language": "python",
      "display_name": "Python 3 (ipykernel)"
    }
  },
  "nbformat": 4,
  "nbformat_minor": 5
}