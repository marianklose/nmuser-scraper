{
  "cells": [
    {
      "cell_type": "raw",
      "metadata": {},
      "source": [
        "---\n",
        "title: \"nmusers scraper\"\n",
        "date: today\n",
        "author: Marian Klose\n",
        "execute: \n",
        "    echo: true\n",
        "    message: true\n",
        "    warning: true\n",
        "format:\n",
        "    html:\n",
        "        toc: true\n",
        "        code-fold: show\n",
        "        code-tools: true\n",
        "        number-sections: true\n",
        "        embed-resources: true\n",
        "---"
      ],
      "id": "079e21b5"
    },
    {
      "cell_type": "markdown",
      "metadata": {},
      "source": [
        "# Preamble\n",
        "\n",
        "## Library\n"
      ],
      "id": "06022fd4"
    },
    {
      "cell_type": "code",
      "metadata": {},
      "source": [
        "# load packages\n",
        "import openai\n",
        "import requests\n",
        "import time\n",
        "import json\n",
        "import re\n",
        "from bs4 import BeautifulSoup\n",
        "from pprint import pprint\n",
        "\n",
        "# import own custom functions\n",
        "from functions import *"
      ],
      "id": "20f290c0",
      "execution_count": null,
      "outputs": []
    },
    {
      "cell_type": "markdown",
      "metadata": {},
      "source": [
        "## PAT / API Tokens\n"
      ],
      "id": "ef08f73f"
    },
    {
      "cell_type": "code",
      "metadata": {},
      "source": [
        "# define pats and api tokens safely via gitignored file \n",
        "from my_secrets import gh_api_token\n",
        "from my_secrets import ai_api_token"
      ],
      "id": "bc8015f2",
      "execution_count": null,
      "outputs": []
    },
    {
      "cell_type": "markdown",
      "metadata": {},
      "source": [
        "## Global Options and Parameters\n"
      ],
      "id": "2dfc1f0d"
    },
    {
      "cell_type": "code",
      "metadata": {},
      "source": [
        "# define if we want to actually create discussions or just test\n",
        "create_dis_bool = False\n",
        "\n",
        "# Define repository and category IDs\n",
        "repository_id = 'R_kgDOKYhvWw'\n",
        "category_id = 'DIC_kwDOKYhvW84CZobi'\n",
        "\n",
        "# add headers to requests\n",
        "headers = {\n",
        "    'User-Agent': 'Mozilla/5.0 (Windows NT 10.0; Win64; x64) AppleWebKit/537.36 (KHTML, like Gecko) Chrome/91.0.4472.124 Safari/537.3'\n",
        "}\n",
        "\n",
        "# define time until the request times out\n",
        "timeout = 60\n",
        "\n",
        "# define max number of retries when scraping\n",
        "retries = 3\n",
        "\n",
        "# Hardcoded dictionary for email classification categories\n",
        "category_dict = {\n",
        "    \"Announcements\": \"DIC_kwDOKYhvW84CZvWP\",\n",
        "    \"Open Positions\": \"DIC_kwDOKYhvW84CZvWQ\",\n",
        "    \"Technicalities\": \"DIC_kwDOKYhvW84CZvWX\",\n",
        "    \"Others\": \"DIC_kwDOKYhvW84CZvWY\"\n",
        "}\n",
        "\n",
        "# define categories for eamil classification\n",
        "categories = list(category_dict.keys())\n",
        "\n",
        "# define chatgpt model\n",
        "model = \"gpt-3.5-turbo\"\n",
        "# model = \"gpt-4\"\n",
        "\n",
        "# Define most recent message ID\n",
        "recent_id = 8687\n",
        "\n",
        "# define id where to stop\n",
        "stop_id = 8686\n",
        "\n",
        "# Define number of messages we want to retrieve (for testing)\n",
        "n_msg = (recent_id - stop_id)+1"
      ],
      "id": "c458bb4f",
      "execution_count": null,
      "outputs": []
    },
    {
      "cell_type": "markdown",
      "metadata": {},
      "source": [
        "# Scraping\n",
        "\n",
        "## Fetching List of Messages\n"
      ],
      "id": "6cc2abd1"
    },
    {
      "cell_type": "code",
      "metadata": {
        "results": "asis"
      },
      "source": [
        "# Define vector of message IDs\n",
        "msg_ids = list(range(recent_id, recent_id - n_msg, -1))\n",
        "\n",
        "# Convert numerics to strings and paste 0 in front\n",
        "msg_ids = [\"0\" + str(x) for x in msg_ids]\n",
        "\n",
        "# show\n",
        "msg_ids\n",
        "\n",
        "# Initialize an empty dictionary to hold the msg information\n",
        "msg = {}\n",
        "\n",
        "# Loop through each msg id, extract the details and append\n",
        "for id in msg_ids:\n",
        "\n",
        "    # Fetch the details\n",
        "    single_msg = fetch_details(\n",
        "        msg_number = id,\n",
        "        headers = headers,\n",
        "        timeout = timeout,\n",
        "        retries = retries\n",
        "    )\n",
        "\n",
        "    # Append to msg\n",
        "    msg[id] = single_msg\n",
        "\n",
        "\n",
        "# Extract threads\n",
        "thread_dict = extract_threads(msg)\n",
        "\n",
        "# Fetch any missing messages in the threads\n",
        "fetch_missing_messages(\n",
        "    thread_dict = thread_dict,\n",
        "    msg = msg,\n",
        "    headers = headers,\n",
        "    timeout = timeout,\n",
        "    retries = retries\n",
        ")\n",
        "\n",
        "# print the result\n",
        "pprint(thread_dict, indent=4)"
      ],
      "id": "f85a2f62",
      "execution_count": null,
      "outputs": []
    },
    {
      "cell_type": "markdown",
      "metadata": {},
      "source": [
        "## Adding ChatGPT Classification and Labels\n"
      ],
      "id": "d1059976"
    },
    {
      "cell_type": "code",
      "metadata": {},
      "source": [
        "# Loop through each element in the dictionary\n",
        "for thread_id, thread_info in thread_dict.items():\n",
        "\n",
        "    # define initial message id\n",
        "    inital_msg_id = thread_info['ids'][0]\n",
        "\n",
        "    # retrieve initial thread starting message\n",
        "    cur_msg = msg[inital_msg_id]\n",
        "\n",
        "    # retrieve category from openai\n",
        "    category = get_chat_completion(\n",
        "        api_key = ai_api_token,\n",
        "        categories = categories,\n",
        "        message_text = cur_msg['subject'],\n",
        "        model = model\n",
        "    )\n",
        "\n",
        "    # update thread_dict with category\n",
        "    thread_dict[thread_id]['category'] = category\n",
        "\n",
        "# print the result\n",
        "pprint(thread_dict, indent=4)"
      ],
      "id": "b7fe0a91",
      "execution_count": null,
      "outputs": []
    },
    {
      "cell_type": "markdown",
      "metadata": {},
      "source": [
        "# Create Discussions\n",
        "\n",
        "## Loop Through Threads\n"
      ],
      "id": "d77f0a86"
    },
    {
      "cell_type": "code",
      "metadata": {},
      "source": [
        "# check if we want to actually create discussions or just test\n",
        "if create_dis_bool:\n",
        "    # Loop through each element in the dictionary\n",
        "    for thread_id, msg_list in thread_dict.items():\n",
        "        # define id\n",
        "        id = msg_list[0]\n",
        "\n",
        "        # retrieve message\n",
        "        cur_msg = msg[id]\n",
        "\n",
        "        # retrieve category from openai\n",
        "        category = get_chat_completion(\n",
        "            api_key = ai_api_token,\n",
        "            categories = categories,\n",
        "            message_text = cur_msg['subject'],\n",
        "            model = model\n",
        "        )\n",
        "\n",
        "        # get category_id from category_dict\n",
        "        category_id = category_dict[category]\n",
        "\n",
        "        # create discussion for id and store output\n",
        "        dis_out = create_discussion(\n",
        "            api_token=gh_api_token,\n",
        "            title=cur_msg['subject'],\n",
        "            body=cur_msg['message'],\n",
        "            date=cur_msg['date'],\n",
        "            author=cur_msg['author'],\n",
        "            repository_id = repository_id,\n",
        "            category_id = category_id\n",
        "        )\n",
        "\n",
        "        # output to console\n",
        "        print(f'Created discussion {dis_out[\"data\"][\"createDiscussion\"][\"discussion\"][\"id\"]} for message {id}.')\n",
        "\n",
        "        # store freshly created discussion id\n",
        "        dis_id = dis_out['data']['createDiscussion']['discussion']['id']\n",
        "\n",
        "        # check if thread has more than one message\n",
        "        if len(msg_list) > 1:\n",
        "            # loop through all messages in thread\n",
        "            for msg_id in msg_list[1:]:\n",
        "                # retrieve message\n",
        "                cur_msg = msg[msg_id]\n",
        "\n",
        "                # add comment to discussion\n",
        "                add_comment_to_discussion(\n",
        "                    api_token=gh_api_token,\n",
        "                    discussion_id=dis_id,\n",
        "                    body=cur_msg['message'],\n",
        "                    date=cur_msg['date'],\n",
        "                    author=cur_msg['author'],\n",
        "                    silent=False\n",
        "                )\n",
        "                \n",
        "                # output to console\n",
        "                print(f'Added comment to discussion {dis_id} for message {msg_id}.')"
      ],
      "id": "e87488ce",
      "execution_count": null,
      "outputs": []
    },
    {
      "cell_type": "markdown",
      "metadata": {},
      "source": [
        "## Delete all discussions (if needed)\n"
      ],
      "id": "c52a842f"
    },
    {
      "cell_type": "code",
      "metadata": {},
      "source": [
        "#| eval: false\n",
        "# Fetch all discussions for the given repository ID\n",
        "all_discussions = list_all_discussions(api_token=gh_api_token, repository_id=repository_id)\n",
        "\n",
        "# Delete each discussion\n",
        "for dis_id, title in all_discussions:\n",
        "    print(f\"Deleting discussion with ID: {dis_id}, Title: {title}\")\n",
        "    delete_discussion(api_token=gh_api_token, discussion_id=dis_id)"
      ],
      "id": "c2b96229",
      "execution_count": null,
      "outputs": []
    },
    {
      "cell_type": "markdown",
      "metadata": {},
      "source": [
        "# Tests\n",
        "\n",
        "## OpenAi Test\n"
      ],
      "id": "a9574179"
    },
    {
      "cell_type": "code",
      "metadata": {},
      "source": [
        "# # test openai with simple message\n",
        "# email_content = \"[NMusers] 2023 Virtual Training Course on PKPD of Protein Therapeutics, November 28-30 \"\n",
        "# classification = get_chat_completion(api_key = ai_api_token, categories = categories, message_text = email_content)\n",
        "# print(classification)\n",
        "\n",
        "\n",
        "# add_labels_to_discussion(api_token = gh_api_token, discussion_id = \"D_kwDOKYhvW84AVshP\" , labels = [\"LA_kwDOKYhvW88AAAABZzOrMA\", \"LA_kwDOKYhvW88AAAABZzPGkQ\"])"
      ],
      "id": "0d34856d",
      "execution_count": null,
      "outputs": []
    }
  ],
  "metadata": {
    "kernelspec": {
      "name": "python3",
      "language": "python",
      "display_name": "Python 3 (ipykernel)"
    }
  },
  "nbformat": 4,
  "nbformat_minor": 5
}